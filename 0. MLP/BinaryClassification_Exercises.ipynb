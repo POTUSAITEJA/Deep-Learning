{
 "cells": [
  {
   "cell_type": "code",
   "execution_count": 1,
   "id": "hazardous-weather",
   "metadata": {
    "ExecuteTime": {
     "end_time": "2021-05-26T07:47:37.551793Z",
     "start_time": "2021-05-26T07:47:35.439944Z"
    }
   },
   "outputs": [],
   "source": [
    "import torch\n",
    "import torch.nn as nn\n",
    "import numpy as np\n",
    "import matplotlib.pyplot as plt\n",
    "import pandas as pd"
   ]
  },
  {
   "cell_type": "code",
   "execution_count": 2,
   "id": "clean-racing",
   "metadata": {
    "ExecuteTime": {
     "end_time": "2021-05-26T07:50:32.482086Z",
     "start_time": "2021-05-26T07:50:32.456893Z"
    }
   },
   "outputs": [],
   "source": [
    "# create a neural network class inheriting from the nn.Module\n",
    "# Call it NeuralNetwork and make, and use \"pass\" in the constructor\n",
    "# so that it doesn't give an error\n",
    "# Instantiate one instance of it in variable net\n",
    "\n",
    "net = 0\n",
    "\n",
    "class NeuralNetwork(nn.Module):\n",
    "    def __init__(self, input_dim, hidden_dim, output_dim):\n",
    "        super(NeuralNetwork, self).__init__()\n",
    "        self.linear1 = nn.Linear(input_dim, hidden_dim)\n",
    "        self.activation = nn.Sigmoid()\n",
    "        self.linear2 = nn.Linear(hidden_dim, output_dim)\n",
    "        \n",
    "        \n",
    "    def forward(self, x):\n",
    "        layer1 = self.linear1(x)\n",
    "        layer1_output = self.activation(layer1)\n",
    "        layer2 = self.linear2(layer1_output)\n",
    "        layer2_output = self.activation(layer2)\n",
    "        \n",
    "        return layer2_output\n",
    "    \n",
    "net = NeuralNetwork(10,5,1)"
   ]
  },
  {
   "cell_type": "code",
   "execution_count": 3,
   "id": "demographic-honor",
   "metadata": {
    "ExecuteTime": {
     "end_time": "2021-05-26T07:51:28.420569Z",
     "start_time": "2021-05-26T07:51:28.412916Z"
    }
   },
   "outputs": [],
   "source": [
    "assert isinstance(net, NeuralNetwork)"
   ]
  },
  {
   "cell_type": "code",
   "execution_count": 5,
   "id": "curious-syndrome",
   "metadata": {
    "ExecuteTime": {
     "end_time": "2021-05-26T07:56:11.203531Z",
     "start_time": "2021-05-26T07:56:11.199729Z"
    }
   },
   "outputs": [],
   "source": [
    "# Rewrite the NeuralNetwork class so that the constructor receives\n",
    "# as input the input_dim and num_hidden, respectively the dimension of \n",
    "# the input and the number of hidden neurons\n",
    "# use pass again\n",
    "\n",
    "class NeuralNetwork(nn.Module):\n",
    "    pass\n",
    "    def __init__(self, input_dim, num_hidden):\n",
    "        super().__init__()\n",
    "        pass\n"
   ]
  },
  {
   "cell_type": "code",
   "execution_count": 6,
   "id": "recreational-macro",
   "metadata": {
    "ExecuteTime": {
     "end_time": "2021-05-26T07:56:32.252906Z",
     "start_time": "2021-05-26T07:56:32.247913Z"
    }
   },
   "outputs": [],
   "source": [
    "assert NeuralNetwork(input_dim=10, num_hidden=16)"
   ]
  },
  {
   "cell_type": "code",
   "execution_count": 11,
   "id": "6e2dbc76",
   "metadata": {},
   "outputs": [
    {
     "data": {
      "text/plain": [
       "NeuralNetwork(\n",
       "  (fc1): Linear(in_features=16, out_features=16, bias=True)\n",
       "  (fc2): Linear(in_features=16, out_features=16, bias=True)\n",
       "  (fc3): Linear(in_features=16, out_features=1, bias=True)\n",
       "  (sigmoid): Sigmoid()\n",
       ")"
      ]
     },
     "execution_count": 11,
     "metadata": {},
     "output_type": "execute_result"
    }
   ],
   "source": [
    "## get model\n",
    "net"
   ]
  },
  {
   "cell_type": "code",
   "execution_count": 12,
   "id": "bigger-inclusion",
   "metadata": {
    "ExecuteTime": {
     "end_time": "2021-05-26T08:04:27.491588Z",
     "start_time": "2021-05-26T08:04:27.484159Z"
    }
   },
   "outputs": [],
   "source": [
    "# Rewrite the NeuralNetwork class so that the constructor receives\n",
    "# as input the input_dim, num_hidden1 and num_hidden2, respectively the dimension of \n",
    "# the input and the number of hidden neurons for the first fully connected\n",
    "# layer and the second. Define the attributes in the constructor\n",
    "# that consists of the layers, call them fc1, fc2 and fc3 and a sigmoid.\n",
    "# use pass again. Be careful to put the dimensions in the right places!\n",
    "# Since we will do a binary classification problem, fc3 will have 1 neuron\n",
    "# as output\n",
    "\n",
    "class NeuralNetwork(nn.Module):\n",
    "    def __init__(self, input_dim, num_hidden1, num_hidden2):\n",
    "        super().__init__()\n",
    "        self.fc1 = nn.Linear(input_dim, num_hidden1)\n",
    "        self.fc2 = nn.Linear(num_hidden1, num_hidden2)\n",
    "        self.fc3 = nn.Linear(num_hidden2, 1)\n",
    "        self.sigmoid = nn.Sigmoid()\n",
    "        \n",
    "    def forward(self, x):\n",
    "        linear1 = self.fc1(x)\n",
    "        activation1 = self.sigmoid(linear1)\n",
    "        linear2 = self.fc2(activation1)\n",
    "        activation2 = self.sigmoid(linear2)\n",
    "        linear3 = self.fc3(activation2)\n",
    "        output = self.sigmoid(linear3)\n",
    "        return output\n",
    "        "
   ]
  },
  {
   "cell_type": "code",
   "execution_count": 13,
   "id": "hawaiian-noise",
   "metadata": {
    "ExecuteTime": {
     "end_time": "2021-05-26T08:04:48.612004Z",
     "start_time": "2021-05-26T08:04:48.606773Z"
    }
   },
   "outputs": [],
   "source": [
    "net = NeuralNetwork(16, 16, 16)\n",
    "assert net.fc1\n",
    "assert net.fc2\n",
    "assert net.fc3\n",
    "assert net.sigmoid"
   ]
  },
  {
   "cell_type": "code",
   "execution_count": 14,
   "id": "latest-sacramento",
   "metadata": {},
   "outputs": [],
   "source": [
    "# For training a model, use the following optimizer and loss\n",
    "\n",
    "\n",
    "optimizer = torch.optim.Adam(net.parameters(), lr=0.01)\n",
    "loss = nn.BCELoss()"
   ]
  },
  {
   "cell_type": "code",
   "execution_count": 15,
   "id": "lesser-bunch",
   "metadata": {},
   "outputs": [
    {
     "name": "stdout",
     "output_type": "stream",
     "text": [
      "Initial loss: 0.69\n"
     ]
    }
   ],
   "source": [
    "# train a neural network (feel free to choose the num_hidden1 and num_hidden2)\n",
    "# on the dataset in data.csv file\n",
    "# You'll have fun with conflicting shapes and types and tensors, but\n",
    "# you'll get those errors anyway. Let's go into the wild and learn\n",
    "# by reading the errors and trying to understand them! :)\n",
    "# You can always use the provided Workbook\n",
    "\n",
    "net = NeuralNetwork(2, 16, 16)\n",
    "\n",
    "data = pd.read_csv('data.csv', header=None)\n",
    "x = np.array(data.iloc[:,:-1])\n",
    "y = data.iloc[:,-1]\n",
    "x_tensor = torch.tensor(x).float()\n",
    "y_true_tensor = torch.tensor(y).float()\n",
    "y_true_tensor = y_true_tensor.view(y.size,1) # view function is the same as reshape in numpy\n",
    "y_pred_tensor = net(x_tensor)\n",
    "loss_value = loss(y_pred_tensor, y_true_tensor)\n",
    "print(f\"Initial loss: {loss_value.item():.2f}\")"
   ]
  },
  {
   "cell_type": "code",
   "execution_count": 16,
   "id": "5e308d95",
   "metadata": {},
   "outputs": [
    {
     "name": "stdout",
     "output_type": "stream",
     "text": [
      "Epoch 0, loss 0.69\n",
      "Epoch 1, loss 0.69\n",
      "Epoch 2, loss 0.69\n",
      "Epoch 3, loss 0.69\n",
      "Epoch 4, loss 0.69\n",
      "Epoch 5, loss 0.69\n",
      "Epoch 6, loss 0.69\n",
      "Epoch 7, loss 0.69\n",
      "Epoch 8, loss 0.69\n",
      "Epoch 9, loss 0.68\n",
      "Epoch 10, loss 0.68\n",
      "Epoch 11, loss 0.68\n",
      "Epoch 12, loss 0.68\n",
      "Epoch 13, loss 0.68\n",
      "Epoch 14, loss 0.67\n",
      "Epoch 15, loss 0.67\n",
      "Epoch 16, loss 0.67\n",
      "Epoch 17, loss 0.66\n",
      "Epoch 18, loss 0.66\n",
      "Epoch 19, loss 0.66\n",
      "Epoch 20, loss 0.65\n",
      "Epoch 21, loss 0.65\n",
      "Epoch 22, loss 0.64\n",
      "Epoch 23, loss 0.63\n",
      "Epoch 24, loss 0.63\n",
      "Epoch 25, loss 0.62\n",
      "Epoch 26, loss 0.61\n",
      "Epoch 27, loss 0.60\n",
      "Epoch 28, loss 0.59\n",
      "Epoch 29, loss 0.58\n",
      "Epoch 30, loss 0.57\n",
      "Epoch 31, loss 0.56\n",
      "Epoch 32, loss 0.55\n",
      "Epoch 33, loss 0.54\n",
      "Epoch 34, loss 0.53\n",
      "Epoch 35, loss 0.51\n",
      "Epoch 36, loss 0.50\n",
      "Epoch 37, loss 0.49\n",
      "Epoch 38, loss 0.47\n",
      "Epoch 39, loss 0.46\n",
      "Epoch 40, loss 0.44\n",
      "Epoch 41, loss 0.43\n",
      "Epoch 42, loss 0.41\n",
      "Epoch 43, loss 0.40\n",
      "Epoch 44, loss 0.38\n",
      "Epoch 45, loss 0.37\n",
      "Epoch 46, loss 0.35\n",
      "Epoch 47, loss 0.34\n",
      "Epoch 48, loss 0.33\n",
      "Epoch 49, loss 0.31\n",
      "Epoch 50, loss 0.30\n",
      "Epoch 51, loss 0.29\n",
      "Epoch 52, loss 0.28\n",
      "Epoch 53, loss 0.27\n",
      "Epoch 54, loss 0.26\n",
      "Epoch 55, loss 0.25\n",
      "Epoch 56, loss 0.24\n",
      "Epoch 57, loss 0.23\n",
      "Epoch 58, loss 0.22\n",
      "Epoch 59, loss 0.21\n",
      "Epoch 60, loss 0.21\n",
      "Epoch 61, loss 0.20\n",
      "Epoch 62, loss 0.19\n",
      "Epoch 63, loss 0.19\n",
      "Epoch 64, loss 0.18\n",
      "Epoch 65, loss 0.18\n",
      "Epoch 66, loss 0.18\n",
      "Epoch 67, loss 0.17\n",
      "Epoch 68, loss 0.17\n",
      "Epoch 69, loss 0.17\n",
      "Epoch 70, loss 0.16\n",
      "Epoch 71, loss 0.16\n",
      "Epoch 72, loss 0.16\n",
      "Epoch 73, loss 0.16\n",
      "Epoch 74, loss 0.16\n",
      "Epoch 75, loss 0.15\n",
      "Epoch 76, loss 0.15\n",
      "Epoch 77, loss 0.15\n",
      "Epoch 78, loss 0.15\n",
      "Epoch 79, loss 0.15\n",
      "Epoch 80, loss 0.15\n",
      "Epoch 81, loss 0.15\n",
      "Epoch 82, loss 0.15\n",
      "Epoch 83, loss 0.15\n",
      "Epoch 84, loss 0.15\n",
      "Epoch 85, loss 0.14\n",
      "Epoch 86, loss 0.14\n",
      "Epoch 87, loss 0.14\n",
      "Epoch 88, loss 0.14\n",
      "Epoch 89, loss 0.14\n",
      "Epoch 90, loss 0.14\n",
      "Epoch 91, loss 0.14\n",
      "Epoch 92, loss 0.14\n",
      "Epoch 93, loss 0.14\n",
      "Epoch 94, loss 0.14\n",
      "Epoch 95, loss 0.14\n",
      "Epoch 96, loss 0.14\n",
      "Epoch 97, loss 0.14\n",
      "Epoch 98, loss 0.14\n",
      "Epoch 99, loss 0.14\n"
     ]
    }
   ],
   "source": [
    "def torch_fit(x, y, model, loss, lr, num_epochs):\n",
    "    optimizer = torch.optim.Adam(model.parameters(), lr=0.01)\n",
    "    for epoch in range(num_epochs):\n",
    "        optimizer.zero_grad()\n",
    "        y_pred_tensor = model(x)\n",
    "        loss_value = loss(y_pred_tensor, y)\n",
    "        print(f'Epoch {epoch}, loss {loss_value.item():.2f}')\n",
    "        loss_value.backward()\n",
    "        optimizer.step()\n",
    "    return model\n",
    "\n",
    "model = torch_fit(x_tensor, y_true_tensor, model=net, loss=loss, lr=0.1, num_epochs=100)"
   ]
  },
  {
   "cell_type": "code",
   "execution_count": 17,
   "id": "892354c7",
   "metadata": {},
   "outputs": [
    {
     "data": {
      "text/plain": [
       "tensor([[0.4909],\n",
       "        [0.4906],\n",
       "        [0.4907],\n",
       "        [0.4904],\n",
       "        [0.4905],\n",
       "        [0.4908],\n",
       "        [0.4905],\n",
       "        [0.4905],\n",
       "        [0.4904],\n",
       "        [0.4906],\n",
       "        [0.4908],\n",
       "        [0.4905],\n",
       "        [0.4904],\n",
       "        [0.4904],\n",
       "        [0.4904],\n",
       "        [0.4907],\n",
       "        [0.4906],\n",
       "        [0.4906],\n",
       "        [0.4904],\n",
       "        [0.4905],\n",
       "        [0.4905],\n",
       "        [0.4904],\n",
       "        [0.4904],\n",
       "        [0.4906],\n",
       "        [0.4905],\n",
       "        [0.4902],\n",
       "        [0.4903],\n",
       "        [0.4906],\n",
       "        [0.4908],\n",
       "        [0.4906],\n",
       "        [0.4905],\n",
       "        [0.4908],\n",
       "        [0.4903],\n",
       "        [0.4903],\n",
       "        [0.4905],\n",
       "        [0.4906],\n",
       "        [0.4904],\n",
       "        [0.4904],\n",
       "        [0.4905],\n",
       "        [0.4906],\n",
       "        [0.4905],\n",
       "        [0.4902],\n",
       "        [0.4908],\n",
       "        [0.4902],\n",
       "        [0.4908],\n",
       "        [0.4907],\n",
       "        [0.4904],\n",
       "        [0.4903],\n",
       "        [0.4907],\n",
       "        [0.4905],\n",
       "        [0.4899],\n",
       "        [0.4903],\n",
       "        [0.4902],\n",
       "        [0.4900],\n",
       "        [0.4904],\n",
       "        [0.4901],\n",
       "        [0.4900],\n",
       "        [0.4901],\n",
       "        [0.4903],\n",
       "        [0.4901],\n",
       "        [0.4903],\n",
       "        [0.4901],\n",
       "        [0.4902],\n",
       "        [0.4901],\n",
       "        [0.4903],\n",
       "        [0.4901],\n",
       "        [0.4902],\n",
       "        [0.4903],\n",
       "        [0.4905],\n",
       "        [0.4901],\n",
       "        [0.4899],\n",
       "        [0.4902],\n",
       "        [0.4900],\n",
       "        [0.4902],\n",
       "        [0.4903],\n",
       "        [0.4901],\n",
       "        [0.4902],\n",
       "        [0.4901],\n",
       "        [0.4903],\n",
       "        [0.4901],\n",
       "        [0.4901],\n",
       "        [0.4901],\n",
       "        [0.4901],\n",
       "        [0.4902],\n",
       "        [0.4904],\n",
       "        [0.4901],\n",
       "        [0.4903],\n",
       "        [0.4900],\n",
       "        [0.4902],\n",
       "        [0.4900],\n",
       "        [0.4899],\n",
       "        [0.4902],\n",
       "        [0.4902],\n",
       "        [0.4900],\n",
       "        [0.4901],\n",
       "        [0.4901],\n",
       "        [0.4901],\n",
       "        [0.4903],\n",
       "        [0.4900],\n",
       "        [0.4902]], grad_fn=<SigmoidBackward0>)"
      ]
     },
     "execution_count": 17,
     "metadata": {},
     "output_type": "execute_result"
    }
   ],
   "source": [
    "y_pred_tensor"
   ]
  }
 ],
 "metadata": {
  "kernelspec": {
   "display_name": "Python 3",
   "language": "python",
   "name": "python3"
  },
  "language_info": {
   "codemirror_mode": {
    "name": "ipython",
    "version": 3
   },
   "file_extension": ".py",
   "mimetype": "text/x-python",
   "name": "python",
   "nbconvert_exporter": "python",
   "pygments_lexer": "ipython3",
   "version": "3.8.12"
  },
  "varInspector": {
   "cols": {
    "lenName": 16,
    "lenType": 16,
    "lenVar": 40
   },
   "kernels_config": {
    "python": {
     "delete_cmd_postfix": "",
     "delete_cmd_prefix": "del ",
     "library": "var_list.py",
     "varRefreshCmd": "print(var_dic_list())"
    },
    "r": {
     "delete_cmd_postfix": ") ",
     "delete_cmd_prefix": "rm(",
     "library": "var_list.r",
     "varRefreshCmd": "cat(var_dic_list()) "
    }
   },
   "types_to_exclude": [
    "module",
    "function",
    "builtin_function_or_method",
    "instance",
    "_Feature"
   ],
   "window_display": false
  }
 },
 "nbformat": 4,
 "nbformat_minor": 5
}
